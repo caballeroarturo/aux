{
  "nbformat": 4,
  "nbformat_minor": 0,
  "metadata": {
    "colab": {
      "provenance": [],
      "authorship_tag": "ABX9TyNrY19IqMdLC78ypQj4X0lR",
      "include_colab_link": true
    },
    "kernelspec": {
      "name": "ir",
      "display_name": "R"
    },
    "language_info": {
      "name": "R"
    }
  },
  "cells": [
    {
      "cell_type": "markdown",
      "metadata": {
        "id": "view-in-github",
        "colab_type": "text"
      },
      "source": [
        "<a href=\"https://colab.research.google.com/github/caballeroarturo/clase07/blob/main/ejemplo0.ipynb\" target=\"_parent\"><img src=\"https://colab.research.google.com/assets/colab-badge.svg\" alt=\"Open In Colab\"/></a>"
      ]
    },
    {
      "cell_type": "code",
      "source": [
        "install.packages(\"pacman\")"
      ],
      "metadata": {
        "colab": {
          "base_uri": "https://localhost:8080/"
        },
        "id": "2S4j5haRQtxW",
        "outputId": "499f926f-50ac-4377-9b12-ec0004d711c7"
      },
      "execution_count": 3,
      "outputs": [
        {
          "output_type": "stream",
          "name": "stderr",
          "text": [
            "Installing package into ‘/usr/local/lib/R/site-library’\n",
            "(as ‘lib’ is unspecified)\n",
            "\n"
          ]
        }
      ]
    },
    {
      "cell_type": "code",
      "execution_count": 4,
      "metadata": {
        "colab": {
          "base_uri": "https://localhost:8080/"
        },
        "id": "5THQcEiWQKYJ",
        "outputId": "b5d0ab65-8d00-4cd2-9f13-735f83475cce"
      },
      "outputs": [
        {
          "output_type": "stream",
          "name": "stderr",
          "text": [
            "Installing package into ‘/usr/local/lib/R/site-library’\n",
            "(as ‘lib’ is unspecified)\n",
            "\n",
            "\n",
            "RMySQL installed\n",
            "\n"
          ]
        }
      ],
      "source": [
        "pacman::p_load(DBI,RMySQL)"
      ]
    },
    {
      "cell_type": "code",
      "source": [
        "# Una vez que se tengan las librerias necesarias se procede a la lectura\n",
        "# (podría ser que necesites otras, si te las solicita instalalas y cargalas),\n",
        "# de la base de datos de Shiny la cual es un demo y nos permite interactuar con\n",
        "# este tipo de objetos. El comando dbConnect es el indicado para realizar la\n",
        "# lectura, los demás parametros son los que nos dan acceso a la BDD.\n",
        "\n",
        "MyDataBase <- dbConnect(\n",
        "  drv = RMySQL::MySQL(),\n",
        "  dbname = \"shinydemo\",\n",
        "  host = \"shiny-demo.csa7qlmguqrf.us-east-1.rds.amazonaws.com\",\n",
        "  username = \"guest\",\n",
        "  password = \"guest\")"
      ],
      "metadata": {
        "id": "M3L3guyDQlCZ"
      },
      "execution_count": 5,
      "outputs": []
    },
    {
      "cell_type": "code",
      "source": [
        "dbListTables(MyDataBase)\n",
        "\n",
        "# Ahora si se quieren desplegar los campos o variables que contiene la tabla\n",
        "# City se hará lo siguiente\n",
        "\n"
      ],
      "metadata": {
        "colab": {
          "base_uri": "https://localhost:8080/",
          "height": 34
        },
        "id": "Vruef_L9QTJg",
        "outputId": "eee8302e-ddce-4e5f-e567-a33d3a4378bb"
      },
      "execution_count": 6,
      "outputs": [
        {
          "output_type": "display_data",
          "data": {
            "text/html": [
              "<style>\n",
              ".list-inline {list-style: none; margin:0; padding: 0}\n",
              ".list-inline>li {display: inline-block}\n",
              ".list-inline>li:not(:last-child)::after {content: \"\\00b7\"; padding: 0 .5ex}\n",
              "</style>\n",
              "<ol class=list-inline><li>'City'</li><li>'Country'</li><li>'CountryLanguage'</li></ol>\n"
            ],
            "text/markdown": "1. 'City'\n2. 'Country'\n3. 'CountryLanguage'\n\n\n",
            "text/latex": "\\begin{enumerate*}\n\\item 'City'\n\\item 'Country'\n\\item 'CountryLanguage'\n\\end{enumerate*}\n",
            "text/plain": [
              "[1] \"City\"            \"Country\"         \"CountryLanguage\""
            ]
          },
          "metadata": {}
        }
      ]
    },
    {
      "cell_type": "code",
      "source": [
        "dbListFields(MyDataBase, 'City')"
      ],
      "metadata": {
        "colab": {
          "base_uri": "https://localhost:8080/",
          "height": 34
        },
        "id": "KjpAi2lGQV2-",
        "outputId": "db19205a-317d-4c64-ec2a-7f2603ce667e"
      },
      "execution_count": 7,
      "outputs": [
        {
          "output_type": "display_data",
          "data": {
            "text/html": [
              "<style>\n",
              ".list-inline {list-style: none; margin:0; padding: 0}\n",
              ".list-inline>li {display: inline-block}\n",
              ".list-inline>li:not(:last-child)::after {content: \"\\00b7\"; padding: 0 .5ex}\n",
              "</style>\n",
              "<ol class=list-inline><li>'ID'</li><li>'Name'</li><li>'CountryCode'</li><li>'District'</li><li>'Population'</li></ol>\n"
            ],
            "text/markdown": "1. 'ID'\n2. 'Name'\n3. 'CountryCode'\n4. 'District'\n5. 'Population'\n\n\n",
            "text/latex": "\\begin{enumerate*}\n\\item 'ID'\n\\item 'Name'\n\\item 'CountryCode'\n\\item 'District'\n\\item 'Population'\n\\end{enumerate*}\n",
            "text/plain": [
              "[1] \"ID\"          \"Name\"        \"CountryCode\" \"District\"    \"Population\" "
            ]
          },
          "metadata": {}
        }
      ]
    },
    {
      "cell_type": "code",
      "source": [
        "library(rvest)\n",
        "# Introducimos una dirección URL donde se encuentre una tabla\n",
        "\n",
        "theurl <- \"https://solarviews.com/span/data2.htm\"\n",
        "file <- read_html(theurl)    # Leemos el html\n",
        "# Selecciona pedazos dentro del HTML para identificar la tabla\n",
        "\n",
        "tables <- html_nodes(file, \"table\")"
      ],
      "metadata": {
        "id": "YDxKPdbLQ2fb"
      },
      "execution_count": 8,
      "outputs": []
    },
    {
      "cell_type": "code",
      "source": [
        "tables"
      ],
      "metadata": {
        "colab": {
          "base_uri": "https://localhost:8080/",
          "height": 138
        },
        "id": "Duc9Ylq8Q3zg",
        "outputId": "1217373a-427f-4f8b-f7e7-2ce71a2edc4e"
      },
      "execution_count": 10,
      "outputs": [
        {
          "output_type": "display_data",
          "data": {
            "text/plain": [
              "{xml_nodeset (6)}\n",
              "[1] <table border=\"2\" bgcolor=\"#0\" width=\"100%\" cellspacing=\"2\" cellpadding=\" ...\n",
              "[2] <table border=\"2\" width=\"100%\" bgcolor=\"#0\"><th><font color=\"#ffffc0\" siz ...\n",
              "[3] <table border=\"2\" width=\"100%\" bgcolor=\"#0\">\\n<a name=\"phy\"></a><th><font ...\n",
              "[4] <table border>\\n<tr align=\"CENTER\">\\n<th>Nombre</th>\\n<th>Vo</th>\\n<th>Di ...\n",
              "[5] <table border=\"2\" width=\"100%\" bgcolor=\"#0\"><th><font size=\"-2\"> </font>< ...\n",
              "[6] <table border=\"2\" width=\"100%\" bgcolor=\"#0\"><th><font size=\"-2\"> </font>< ..."
            ]
          },
          "metadata": {}
        }
      ]
    },
    {
      "cell_type": "code",
      "source": [
        "dbListTables(MyDataBase)\n",
        "\n",
        "# Ahora si se quieren desplegar los campos o variables que contiene la tabla\n",
        "# City se hará lo siguiente\n",
        "\n",
        "dbListFields(MyDataBase, 'City')\n",
        "\n",
        "# Para realizar una consulta tipo MySQL sobre la tabla seleccionada haremos lo\n",
        "# siguiente\n",
        "\n",
        "DataDB <- dbGetQuery(MyDataBase, \"select * from City\")\n",
        "\n",
        "# Observemos que el objeto DataDB es un data frame, por lo tanto ya es un objeto\n",
        "# de R y podemos aplicar los comandos usuales\n",
        "\n",
        "class(DataDB)\n",
        "head(DataDB)"
      ],
      "metadata": {
        "colab": {
          "base_uri": "https://localhost:8080/",
          "height": 338
        },
        "id": "dkeps2v1Q9lW",
        "outputId": "30614375-0414-4a73-f0d4-55b7bc4340b9"
      },
      "execution_count": 11,
      "outputs": [
        {
          "output_type": "display_data",
          "data": {
            "text/html": [
              "<style>\n",
              ".list-inline {list-style: none; margin:0; padding: 0}\n",
              ".list-inline>li {display: inline-block}\n",
              ".list-inline>li:not(:last-child)::after {content: \"\\00b7\"; padding: 0 .5ex}\n",
              "</style>\n",
              "<ol class=list-inline><li>'City'</li><li>'Country'</li><li>'CountryLanguage'</li></ol>\n"
            ],
            "text/markdown": "1. 'City'\n2. 'Country'\n3. 'CountryLanguage'\n\n\n",
            "text/latex": "\\begin{enumerate*}\n\\item 'City'\n\\item 'Country'\n\\item 'CountryLanguage'\n\\end{enumerate*}\n",
            "text/plain": [
              "[1] \"City\"            \"Country\"         \"CountryLanguage\""
            ]
          },
          "metadata": {}
        },
        {
          "output_type": "display_data",
          "data": {
            "text/html": [
              "<style>\n",
              ".list-inline {list-style: none; margin:0; padding: 0}\n",
              ".list-inline>li {display: inline-block}\n",
              ".list-inline>li:not(:last-child)::after {content: \"\\00b7\"; padding: 0 .5ex}\n",
              "</style>\n",
              "<ol class=list-inline><li>'ID'</li><li>'Name'</li><li>'CountryCode'</li><li>'District'</li><li>'Population'</li></ol>\n"
            ],
            "text/markdown": "1. 'ID'\n2. 'Name'\n3. 'CountryCode'\n4. 'District'\n5. 'Population'\n\n\n",
            "text/latex": "\\begin{enumerate*}\n\\item 'ID'\n\\item 'Name'\n\\item 'CountryCode'\n\\item 'District'\n\\item 'Population'\n\\end{enumerate*}\n",
            "text/plain": [
              "[1] \"ID\"          \"Name\"        \"CountryCode\" \"District\"    \"Population\" "
            ]
          },
          "metadata": {}
        },
        {
          "output_type": "display_data",
          "data": {
            "text/html": [
              "'data.frame'"
            ],
            "text/markdown": "'data.frame'",
            "text/latex": "'data.frame'",
            "text/plain": [
              "[1] \"data.frame\""
            ]
          },
          "metadata": {}
        },
        {
          "output_type": "display_data",
          "data": {
            "text/html": [
              "<table class=\"dataframe\">\n",
              "<caption>A data.frame: 6 × 5</caption>\n",
              "<thead>\n",
              "\t<tr><th></th><th scope=col>ID</th><th scope=col>Name</th><th scope=col>CountryCode</th><th scope=col>District</th><th scope=col>Population</th></tr>\n",
              "\t<tr><th></th><th scope=col>&lt;dbl&gt;</th><th scope=col>&lt;chr&gt;</th><th scope=col>&lt;chr&gt;</th><th scope=col>&lt;chr&gt;</th><th scope=col>&lt;dbl&gt;</th></tr>\n",
              "</thead>\n",
              "<tbody>\n",
              "\t<tr><th scope=row>1</th><td>1</td><td>Kabul         </td><td>AFG</td><td>Kabol        </td><td>1780000</td></tr>\n",
              "\t<tr><th scope=row>2</th><td>2</td><td>Qandahar      </td><td>AFG</td><td>Qandahar     </td><td> 237500</td></tr>\n",
              "\t<tr><th scope=row>3</th><td>3</td><td>Herat         </td><td>AFG</td><td>Herat        </td><td> 186800</td></tr>\n",
              "\t<tr><th scope=row>4</th><td>4</td><td>Mazar-e-Sharif</td><td>AFG</td><td>Balkh        </td><td> 127800</td></tr>\n",
              "\t<tr><th scope=row>5</th><td>5</td><td>Amsterdam     </td><td>NLD</td><td>Noord-Holland</td><td> 731200</td></tr>\n",
              "\t<tr><th scope=row>6</th><td>6</td><td>Rotterdam     </td><td>NLD</td><td>Zuid-Holland </td><td> 593321</td></tr>\n",
              "</tbody>\n",
              "</table>\n"
            ],
            "text/markdown": "\nA data.frame: 6 × 5\n\n| <!--/--> | ID &lt;dbl&gt; | Name &lt;chr&gt; | CountryCode &lt;chr&gt; | District &lt;chr&gt; | Population &lt;dbl&gt; |\n|---|---|---|---|---|---|\n| 1 | 1 | Kabul          | AFG | Kabol         | 1780000 |\n| 2 | 2 | Qandahar       | AFG | Qandahar      |  237500 |\n| 3 | 3 | Herat          | AFG | Herat         |  186800 |\n| 4 | 4 | Mazar-e-Sharif | AFG | Balkh         |  127800 |\n| 5 | 5 | Amsterdam      | NLD | Noord-Holland |  731200 |\n| 6 | 6 | Rotterdam      | NLD | Zuid-Holland  |  593321 |\n\n",
            "text/latex": "A data.frame: 6 × 5\n\\begin{tabular}{r|lllll}\n  & ID & Name & CountryCode & District & Population\\\\\n  & <dbl> & <chr> & <chr> & <chr> & <dbl>\\\\\n\\hline\n\t1 & 1 & Kabul          & AFG & Kabol         & 1780000\\\\\n\t2 & 2 & Qandahar       & AFG & Qandahar      &  237500\\\\\n\t3 & 3 & Herat          & AFG & Herat         &  186800\\\\\n\t4 & 4 & Mazar-e-Sharif & AFG & Balkh         &  127800\\\\\n\t5 & 5 & Amsterdam      & NLD & Noord-Holland &  731200\\\\\n\t6 & 6 & Rotterdam      & NLD & Zuid-Holland  &  593321\\\\\n\\end{tabular}\n",
            "text/plain": [
              "  ID Name           CountryCode District      Population\n",
              "1 1  Kabul          AFG         Kabol         1780000   \n",
              "2 2  Qandahar       AFG         Qandahar       237500   \n",
              "3 3  Herat          AFG         Herat          186800   \n",
              "4 4  Mazar-e-Sharif AFG         Balkh          127800   \n",
              "5 5  Amsterdam      NLD         Noord-Holland  731200   \n",
              "6 6  Rotterdam      NLD         Zuid-Holland   593321   "
            ]
          },
          "metadata": {}
        }
      ]
    }
  ]
}