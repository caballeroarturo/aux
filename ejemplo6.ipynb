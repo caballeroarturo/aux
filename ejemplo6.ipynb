{
  "nbformat": 4,
  "nbformat_minor": 0,
  "metadata": {
    "colab": {
      "provenance": [],
      "authorship_tag": "ABX9TyNUxv03RlpiBn+lLaTlpo4H",
      "include_colab_link": true
    },
    "kernelspec": {
      "name": "ir",
      "display_name": "R"
    },
    "language_info": {
      "name": "R"
    }
  },
  "cells": [
    {
      "cell_type": "markdown",
      "metadata": {
        "id": "view-in-github",
        "colab_type": "text"
      },
      "source": [
        "<a href=\"https://colab.research.google.com/github/caballeroarturo/clase07/blob/main/ejemplo6.ipynb\" target=\"_parent\"><img src=\"https://colab.research.google.com/assets/colab-badge.svg\" alt=\"Open In Colab\"/></a>"
      ]
    },
    {
      "cell_type": "markdown",
      "source": [
        "# Ciclo for"
      ],
      "metadata": {
        "id": "EwhXeQeOqVqK"
      }
    },
    {
      "cell_type": "markdown",
      "source": [],
      "metadata": {
        "id": "GZo0krS3qYc5"
      }
    },
    {
      "cell_type": "code",
      "execution_count": 1,
      "metadata": {
        "colab": {
          "base_uri": "https://localhost:8080/"
        },
        "id": "nF-jJ5UFqOAa",
        "outputId": "68db8a0a-8f80-432d-94d5-037c353583ab"
      },
      "outputs": [
        {
          "output_type": "stream",
          "name": "stdout",
          "text": [
            "[1] \"Este loop calcula el cuadrado de los 10 primeros elementos del vector w\"\n"
          ]
        }
      ],
      "source": [
        "w <- rnorm(20)\n",
        "print(\"Este loop calcula el cuadrado de los 10 primeros elementos del vector w\")"
      ]
    },
    {
      "cell_type": "code",
      "source": [
        "length(w)"
      ],
      "metadata": {
        "colab": {
          "base_uri": "https://localhost:8080/",
          "height": 34
        },
        "id": "e4P4wVvDqjqG",
        "outputId": "31ddc260-54b0-478c-fead-01d7da0dccc5"
      },
      "execution_count": 3,
      "outputs": [
        {
          "output_type": "display_data",
          "data": {
            "text/html": [
              "20"
            ],
            "text/markdown": "20",
            "text/latex": "20",
            "text/plain": [
              "[1] 20"
            ]
          },
          "metadata": {}
        }
      ]
    },
    {
      "cell_type": "code",
      "source": [
        "1:10"
      ],
      "metadata": {
        "colab": {
          "base_uri": "https://localhost:8080/",
          "height": 34
        },
        "id": "FPxhKHmkrMr5",
        "outputId": "c04bf8db-9ff8-4d27-8886-599254c9ba45"
      },
      "execution_count": 4,
      "outputs": [
        {
          "output_type": "display_data",
          "data": {
            "text/html": [
              "<style>\n",
              ".list-inline {list-style: none; margin:0; padding: 0}\n",
              ".list-inline>li {display: inline-block}\n",
              ".list-inline>li:not(:last-child)::after {content: \"\\00b7\"; padding: 0 .5ex}\n",
              "</style>\n",
              "<ol class=list-inline><li>1</li><li>2</li><li>3</li><li>4</li><li>5</li><li>6</li><li>7</li><li>8</li><li>9</li><li>10</li></ol>\n"
            ],
            "text/markdown": "1. 1\n2. 2\n3. 3\n4. 4\n5. 5\n6. 6\n7. 7\n8. 8\n9. 9\n10. 10\n\n\n",
            "text/latex": "\\begin{enumerate*}\n\\item 1\n\\item 2\n\\item 3\n\\item 4\n\\item 5\n\\item 6\n\\item 7\n\\item 8\n\\item 9\n\\item 10\n\\end{enumerate*}\n",
            "text/plain": [
              " [1]  1  2  3  4  5  6  7  8  9 10"
            ]
          },
          "metadata": {}
        }
      ]
    },
    {
      "cell_type": "code",
      "source": [
        "wsq <- c()  # el vector nuevo que guardara los cuadrados\n",
        "\n",
        "for (i in 1:10) { # la condición esta dentro de un parentesis\n",
        "  # todas las operaciones de cada ciclo están entre llaves {}\n",
        "  wsq[i] <- w[i]**2\n",
        "  print(wsq[i])\n",
        "}"
      ],
      "metadata": {
        "id": "lyN8QdpWqt99"
      },
      "execution_count": null,
      "outputs": []
    },
    {
      "cell_type": "code",
      "source": [
        "length(wsq)"
      ],
      "metadata": {
        "id": "IdW_MoqGrZ0M"
      },
      "execution_count": null,
      "outputs": []
    },
    {
      "cell_type": "markdown",
      "source": [
        "# Ciclo While"
      ],
      "metadata": {
        "id": "FGLJofxGri1R"
      }
    },
    {
      "cell_type": "code",
      "source": [
        "count <- 0\n",
        "while(count < 10) {\n",
        "  print(count)\n",
        "  count <- count + 1\n",
        "}"
      ],
      "metadata": {
        "colab": {
          "base_uri": "https://localhost:8080/"
        },
        "id": "eTi8EZgHrlMS",
        "outputId": "440582f5-1607-4396-9d95-2d8657e7f0cb"
      },
      "execution_count": 8,
      "outputs": [
        {
          "output_type": "stream",
          "name": "stdout",
          "text": [
            "[1] 0\n",
            "[1] 1\n",
            "[1] 2\n",
            "[1] 3\n",
            "[1] 4\n",
            "[1] 5\n",
            "[1] 6\n",
            "[1] 7\n",
            "[1] 8\n",
            "[1] 9\n"
          ]
        }
      ]
    },
    {
      "cell_type": "markdown",
      "source": [
        "# IF ... ELSE ..."
      ],
      "metadata": {
        "id": "fg8jRB8EscsC"
      }
    },
    {
      "cell_type": "code",
      "source": [
        "x <- runif(1, 0, 10) ## creamos un número psudo-aleatorio entre 0 y 10"
      ],
      "metadata": {
        "id": "KsvrjBO3r_dq"
      },
      "execution_count": 16,
      "outputs": []
    },
    {
      "cell_type": "code",
      "source": [
        "x"
      ],
      "metadata": {
        "colab": {
          "base_uri": "https://localhost:8080/",
          "height": 34
        },
        "id": "glNInmQVswDr",
        "outputId": "475636d5-c008-43cb-f7d9-527fd734d6a8"
      },
      "execution_count": 10,
      "outputs": [
        {
          "output_type": "display_data",
          "data": {
            "text/html": [
              "6.1961860395968"
            ],
            "text/markdown": "6.1961860395968",
            "text/latex": "6.1961860395968",
            "text/plain": [
              "[1] 6.196186"
            ]
          },
          "metadata": {}
        }
      ]
    },
    {
      "cell_type": "code",
      "source": [
        "if(x > 5) {\n",
        "  y <- TRUE\n",
        "} else {\n",
        "  y <- FALSE\n",
        "}\n",
        "print(x)\n",
        "print(y)"
      ],
      "metadata": {
        "colab": {
          "base_uri": "https://localhost:8080/"
        },
        "id": "Bxnd0BobsiFp",
        "outputId": "57036acb-1dcc-494b-9c73-a819a95d8fbe"
      },
      "execution_count": 17,
      "outputs": [
        {
          "output_type": "stream",
          "name": "stdout",
          "text": [
            "[1] 6.046243\n",
            "[1] TRUE\n"
          ]
        }
      ]
    }
  ]
}