{
  "nbformat": 4,
  "nbformat_minor": 0,
  "metadata": {
    "colab": {
      "provenance": [],
      "authorship_tag": "ABX9TyOucxI6/ZTnMoHKDWpwbeSt",
      "include_colab_link": true
    },
    "kernelspec": {
      "name": "ir",
      "display_name": "R"
    },
    "language_info": {
      "name": "R"
    }
  },
  "cells": [
    {
      "cell_type": "markdown",
      "metadata": {
        "id": "view-in-github",
        "colab_type": "text"
      },
      "source": [
        "<a href=\"https://colab.research.google.com/github/caballeroarturo/clase07/blob/main/ejemplo.ipynb\" target=\"_parent\"><img src=\"https://colab.research.google.com/assets/colab-badge.svg\" alt=\"Open In Colab\"/></a>"
      ]
    },
    {
      "cell_type": "markdown",
      "source": [
        "Genera un vector de 44 entradas (aleatorias), llamado ran (Hint: utiliza la función rnorm()).\n",
        "Escribe un loop que eleve al cubo las primeras 15 entradas y les sume 12.\n",
        "Guarda el resultado en un data frame, donde la primera columna sea el número aleatorio y la segunda el resultado, nómbralo df.al.\n",
        "Escribe el pseudocódigo del loop anterior."
      ],
      "metadata": {
        "id": "Br0ktZ5jfpOJ"
      }
    },
    {
      "cell_type": "code",
      "execution_count": 1,
      "metadata": {
        "id": "PJ9ZfTjIfnEu"
      },
      "outputs": [],
      "source": [
        "??rnorm"
      ]
    },
    {
      "cell_type": "code",
      "source": [
        "v <- rnorm(44)\n",
        "length(v)"
      ],
      "metadata": {
        "colab": {
          "base_uri": "https://localhost:8080/",
          "height": 34
        },
        "id": "wnApJ_7CgROx",
        "outputId": "87a39919-f305-4127-d45c-3bce41bc6611"
      },
      "execution_count": 5,
      "outputs": [
        {
          "output_type": "display_data",
          "data": {
            "text/html": [
              "44"
            ],
            "text/markdown": "44",
            "text/latex": "44",
            "text/plain": [
              "[1] 44"
            ]
          },
          "metadata": {}
        }
      ]
    },
    {
      "cell_type": "code",
      "source": [
        "1:15"
      ],
      "metadata": {
        "colab": {
          "base_uri": "https://localhost:8080/",
          "height": 34
        },
        "id": "siuKusuIgoUh",
        "outputId": "65d8ab71-dde0-4290-ecd8-51caa33b9c9d"
      },
      "execution_count": 7,
      "outputs": [
        {
          "output_type": "display_data",
          "data": {
            "text/html": [
              "<style>\n",
              ".list-inline {list-style: none; margin:0; padding: 0}\n",
              ".list-inline>li {display: inline-block}\n",
              ".list-inline>li:not(:last-child)::after {content: \"\\00b7\"; padding: 0 .5ex}\n",
              "</style>\n",
              "<ol class=list-inline><li>1</li><li>2</li><li>3</li><li>4</li><li>5</li><li>6</li><li>7</li><li>8</li><li>9</li><li>10</li><li>11</li><li>12</li><li>13</li><li>14</li><li>15</li></ol>\n"
            ],
            "text/markdown": "1. 1\n2. 2\n3. 3\n4. 4\n5. 5\n6. 6\n7. 7\n8. 8\n9. 9\n10. 10\n11. 11\n12. 12\n13. 13\n14. 14\n15. 15\n\n\n",
            "text/latex": "\\begin{enumerate*}\n\\item 1\n\\item 2\n\\item 3\n\\item 4\n\\item 5\n\\item 6\n\\item 7\n\\item 8\n\\item 9\n\\item 10\n\\item 11\n\\item 12\n\\item 13\n\\item 14\n\\item 15\n\\end{enumerate*}\n",
            "text/plain": [
              " [1]  1  2  3  4  5  6  7  8  9 10 11 12 13 14 15"
            ]
          },
          "metadata": {}
        }
      ]
    },
    {
      "cell_type": "code",
      "source": [
        "res <- c()\n",
        "for(i in 1:length(v)){\n",
        "  if (i<=15){\n",
        "    print((v[i]**3) + 12)\n",
        "    res <- c(res,(v[i]**3) + 12)\n",
        "  } else {\n",
        "    res <- c(res,NA)\n",
        "    }\n",
        "}"
      ],
      "metadata": {
        "colab": {
          "base_uri": "https://localhost:8080/"
        },
        "id": "d_vAbYv9geEP",
        "outputId": "174908a2-afa8-462b-a370-7419d233bb72"
      },
      "execution_count": 15,
      "outputs": [
        {
          "output_type": "stream",
          "name": "stdout",
          "text": [
            "[1] 11.77006\n",
            "[1] 9.242012\n",
            "[1] 11.93179\n",
            "[1] 8.6677\n",
            "[1] 12.21373\n",
            "[1] 11.88469\n",
            "[1] 7.627953\n",
            "[1] 11.99597\n",
            "[1] 11.94358\n",
            "[1] 11.99997\n",
            "[1] 11.84412\n",
            "[1] 12.07983\n",
            "[1] 15.03214\n",
            "[1] 11.70457\n",
            "[1] 12.0187\n"
          ]
        }
      ]
    },
    {
      "cell_type": "code",
      "source": [
        "length(res)"
      ],
      "metadata": {
        "colab": {
          "base_uri": "https://localhost:8080/",
          "height": 34
        },
        "id": "C1O_HhSFhID8",
        "outputId": "71c93f3c-2634-4fcb-ebfa-d0b0a2385313"
      },
      "execution_count": 17,
      "outputs": [
        {
          "output_type": "display_data",
          "data": {
            "text/html": [
              "44"
            ],
            "text/markdown": "44",
            "text/latex": "44",
            "text/plain": [
              "[1] 44"
            ]
          },
          "metadata": {}
        }
      ]
    },
    {
      "cell_type": "code",
      "source": [
        "v"
      ],
      "metadata": {
        "colab": {
          "base_uri": "https://localhost:8080/",
          "height": 138
        },
        "id": "rBS8xZOzhKjy",
        "outputId": "82bc9782-9bbd-402c-db20-08c480ebc250"
      },
      "execution_count": 18,
      "outputs": [
        {
          "output_type": "display_data",
          "data": {
            "text/html": [
              "<style>\n",
              ".list-inline {list-style: none; margin:0; padding: 0}\n",
              ".list-inline>li {display: inline-block}\n",
              ".list-inline>li:not(:last-child)::after {content: \"\\00b7\"; padding: 0 .5ex}\n",
              "</style>\n",
              "<ol class=list-inline><li>-0.612640338469743</li><li>-1.40237496209895</li><li>-0.408590484799045</li><li>-1.49364726255985</li><li>0.597888445023416</li><li>-0.486734254832578</li><li>-1.63516504714244</li><li>-0.159162830878127</li><li>-0.383546260005587</li><li>-0.0305266147302958</li><li>-0.538187619139052</li><li>0.430582922266233</li><li>1.44738132132198</li><li>-0.666015329033309</li><li>0.265425587430668</li><li>0.0862170524789104</li><li>0.0757767590560748</li><li>0.200535550710913</li><li>0.00528386620915071</li><li>-0.210508029307253</li><li>0.288200518340124</li><li>-0.448335209395213</li><li>0.606405505194823</li><li>0.716437276390392</li><li>-2.24953668843762</li><li>2.34300237271542</li><li>-0.249967538563962</li><li>-1.089288583921</li><li>0.015797722328234</li><li>1.08006038786683</li><li>0.0984721740043857</li><li>-0.407680670031415</li><li>-0.358536923346989</li><li>0.761166623416735</li><li>0.274957161076821</li><li>-1.15074825955002</li><li>0.746369985128175</li><li>1.86119155450161</li><li>-0.315505384755611</li><li>-0.441975203596652</li><li>0.832505724326867</li><li>1.70146492793805</li><li>-0.371904810568346</li><li>-0.922794639322626</li></ol>\n"
            ],
            "text/markdown": "1. -0.612640338469743\n2. -1.40237496209895\n3. -0.408590484799045\n4. -1.49364726255985\n5. 0.597888445023416\n6. -0.486734254832578\n7. -1.63516504714244\n8. -0.159162830878127\n9. -0.383546260005587\n10. -0.0305266147302958\n11. -0.538187619139052\n12. 0.430582922266233\n13. 1.44738132132198\n14. -0.666015329033309\n15. 0.265425587430668\n16. 0.0862170524789104\n17. 0.0757767590560748\n18. 0.200535550710913\n19. 0.00528386620915071\n20. -0.210508029307253\n21. 0.288200518340124\n22. -0.448335209395213\n23. 0.606405505194823\n24. 0.716437276390392\n25. -2.24953668843762\n26. 2.34300237271542\n27. -0.249967538563962\n28. -1.089288583921\n29. 0.015797722328234\n30. 1.08006038786683\n31. 0.0984721740043857\n32. -0.407680670031415\n33. -0.358536923346989\n34. 0.761166623416735\n35. 0.274957161076821\n36. -1.15074825955002\n37. 0.746369985128175\n38. 1.86119155450161\n39. -0.315505384755611\n40. -0.441975203596652\n41. 0.832505724326867\n42. 1.70146492793805\n43. -0.371904810568346\n44. -0.922794639322626\n\n\n",
            "text/latex": "\\begin{enumerate*}\n\\item -0.612640338469743\n\\item -1.40237496209895\n\\item -0.408590484799045\n\\item -1.49364726255985\n\\item 0.597888445023416\n\\item -0.486734254832578\n\\item -1.63516504714244\n\\item -0.159162830878127\n\\item -0.383546260005587\n\\item -0.0305266147302958\n\\item -0.538187619139052\n\\item 0.430582922266233\n\\item 1.44738132132198\n\\item -0.666015329033309\n\\item 0.265425587430668\n\\item 0.0862170524789104\n\\item 0.0757767590560748\n\\item 0.200535550710913\n\\item 0.00528386620915071\n\\item -0.210508029307253\n\\item 0.288200518340124\n\\item -0.448335209395213\n\\item 0.606405505194823\n\\item 0.716437276390392\n\\item -2.24953668843762\n\\item 2.34300237271542\n\\item -0.249967538563962\n\\item -1.089288583921\n\\item 0.015797722328234\n\\item 1.08006038786683\n\\item 0.0984721740043857\n\\item -0.407680670031415\n\\item -0.358536923346989\n\\item 0.761166623416735\n\\item 0.274957161076821\n\\item -1.15074825955002\n\\item 0.746369985128175\n\\item 1.86119155450161\n\\item -0.315505384755611\n\\item -0.441975203596652\n\\item 0.832505724326867\n\\item 1.70146492793805\n\\item -0.371904810568346\n\\item -0.922794639322626\n\\end{enumerate*}\n",
            "text/plain": [
              " [1] -0.612640338 -1.402374962 -0.408590485 -1.493647263  0.597888445\n",
              " [6] -0.486734255 -1.635165047 -0.159162831 -0.383546260 -0.030526615\n",
              "[11] -0.538187619  0.430582922  1.447381321 -0.666015329  0.265425587\n",
              "[16]  0.086217052  0.075776759  0.200535551  0.005283866 -0.210508029\n",
              "[21]  0.288200518 -0.448335209  0.606405505  0.716437276 -2.249536688\n",
              "[26]  2.343002373 -0.249967539 -1.089288584  0.015797722  1.080060388\n",
              "[31]  0.098472174 -0.407680670 -0.358536923  0.761166623  0.274957161\n",
              "[36] -1.150748260  0.746369985  1.861191555 -0.315505385 -0.441975204\n",
              "[41]  0.832505724  1.701464928 -0.371904811 -0.922794639"
            ]
          },
          "metadata": {}
        }
      ]
    },
    {
      "cell_type": "code",
      "source": [
        "df <- data.frame(orden = 1:44, aleatorios = v, resultado = res)"
      ],
      "metadata": {
        "id": "mB5lLEe2hM3A"
      },
      "execution_count": 21,
      "outputs": []
    },
    {
      "cell_type": "markdown",
      "source": [
        "df"
      ],
      "metadata": {
        "id": "6L6ZNbfOiFqL"
      }
    },
    {
      "cell_type": "code",
      "source": [
        "df"
      ],
      "metadata": {
        "colab": {
          "base_uri": "https://localhost:8080/",
          "height": 1000
        },
        "id": "cN4yjO4NiG_G",
        "outputId": "65a2df2e-7b24-45b3-f6e5-ee8d6be8874f"
      },
      "execution_count": 22,
      "outputs": [
        {
          "output_type": "display_data",
          "data": {
            "text/html": [
              "<table class=\"dataframe\">\n",
              "<caption>A data.frame: 44 × 3</caption>\n",
              "<thead>\n",
              "\t<tr><th scope=col>orden</th><th scope=col>aleatorios</th><th scope=col>resultado</th></tr>\n",
              "\t<tr><th scope=col>&lt;int&gt;</th><th scope=col>&lt;dbl&gt;</th><th scope=col>&lt;dbl&gt;</th></tr>\n",
              "</thead>\n",
              "<tbody>\n",
              "\t<tr><td> 1</td><td>-0.612640338</td><td>11.770059</td></tr>\n",
              "\t<tr><td> 2</td><td>-1.402374962</td><td> 9.242012</td></tr>\n",
              "\t<tr><td> 3</td><td>-0.408590485</td><td>11.931787</td></tr>\n",
              "\t<tr><td> 4</td><td>-1.493647263</td><td> 8.667700</td></tr>\n",
              "\t<tr><td> 5</td><td> 0.597888445</td><td>12.213728</td></tr>\n",
              "\t<tr><td> 6</td><td>-0.486734255</td><td>11.884688</td></tr>\n",
              "\t<tr><td> 7</td><td>-1.635165047</td><td> 7.627953</td></tr>\n",
              "\t<tr><td> 8</td><td>-0.159162831</td><td>11.995968</td></tr>\n",
              "\t<tr><td> 9</td><td>-0.383546260</td><td>11.943577</td></tr>\n",
              "\t<tr><td>10</td><td>-0.030526615</td><td>11.999972</td></tr>\n",
              "\t<tr><td>11</td><td>-0.538187619</td><td>11.844116</td></tr>\n",
              "\t<tr><td>12</td><td> 0.430582922</td><td>12.079831</td></tr>\n",
              "\t<tr><td>13</td><td> 1.447381321</td><td>15.032137</td></tr>\n",
              "\t<tr><td>14</td><td>-0.666015329</td><td>11.704571</td></tr>\n",
              "\t<tr><td>15</td><td> 0.265425587</td><td>12.018699</td></tr>\n",
              "\t<tr><td>16</td><td> 0.086217052</td><td>       NA</td></tr>\n",
              "\t<tr><td>17</td><td> 0.075776759</td><td>       NA</td></tr>\n",
              "\t<tr><td>18</td><td> 0.200535551</td><td>       NA</td></tr>\n",
              "\t<tr><td>19</td><td> 0.005283866</td><td>       NA</td></tr>\n",
              "\t<tr><td>20</td><td>-0.210508029</td><td>       NA</td></tr>\n",
              "\t<tr><td>21</td><td> 0.288200518</td><td>       NA</td></tr>\n",
              "\t<tr><td>22</td><td>-0.448335209</td><td>       NA</td></tr>\n",
              "\t<tr><td>23</td><td> 0.606405505</td><td>       NA</td></tr>\n",
              "\t<tr><td>24</td><td> 0.716437276</td><td>       NA</td></tr>\n",
              "\t<tr><td>25</td><td>-2.249536688</td><td>       NA</td></tr>\n",
              "\t<tr><td>26</td><td> 2.343002373</td><td>       NA</td></tr>\n",
              "\t<tr><td>27</td><td>-0.249967539</td><td>       NA</td></tr>\n",
              "\t<tr><td>28</td><td>-1.089288584</td><td>       NA</td></tr>\n",
              "\t<tr><td>29</td><td> 0.015797722</td><td>       NA</td></tr>\n",
              "\t<tr><td>30</td><td> 1.080060388</td><td>       NA</td></tr>\n",
              "\t<tr><td>31</td><td> 0.098472174</td><td>       NA</td></tr>\n",
              "\t<tr><td>32</td><td>-0.407680670</td><td>       NA</td></tr>\n",
              "\t<tr><td>33</td><td>-0.358536923</td><td>       NA</td></tr>\n",
              "\t<tr><td>34</td><td> 0.761166623</td><td>       NA</td></tr>\n",
              "\t<tr><td>35</td><td> 0.274957161</td><td>       NA</td></tr>\n",
              "\t<tr><td>36</td><td>-1.150748260</td><td>       NA</td></tr>\n",
              "\t<tr><td>37</td><td> 0.746369985</td><td>       NA</td></tr>\n",
              "\t<tr><td>38</td><td> 1.861191555</td><td>       NA</td></tr>\n",
              "\t<tr><td>39</td><td>-0.315505385</td><td>       NA</td></tr>\n",
              "\t<tr><td>40</td><td>-0.441975204</td><td>       NA</td></tr>\n",
              "\t<tr><td>41</td><td> 0.832505724</td><td>       NA</td></tr>\n",
              "\t<tr><td>42</td><td> 1.701464928</td><td>       NA</td></tr>\n",
              "\t<tr><td>43</td><td>-0.371904811</td><td>       NA</td></tr>\n",
              "\t<tr><td>44</td><td>-0.922794639</td><td>       NA</td></tr>\n",
              "</tbody>\n",
              "</table>\n"
            ],
            "text/markdown": "\nA data.frame: 44 × 3\n\n| orden &lt;int&gt; | aleatorios &lt;dbl&gt; | resultado &lt;dbl&gt; |\n|---|---|---|\n|  1 | -0.612640338 | 11.770059 |\n|  2 | -1.402374962 |  9.242012 |\n|  3 | -0.408590485 | 11.931787 |\n|  4 | -1.493647263 |  8.667700 |\n|  5 |  0.597888445 | 12.213728 |\n|  6 | -0.486734255 | 11.884688 |\n|  7 | -1.635165047 |  7.627953 |\n|  8 | -0.159162831 | 11.995968 |\n|  9 | -0.383546260 | 11.943577 |\n| 10 | -0.030526615 | 11.999972 |\n| 11 | -0.538187619 | 11.844116 |\n| 12 |  0.430582922 | 12.079831 |\n| 13 |  1.447381321 | 15.032137 |\n| 14 | -0.666015329 | 11.704571 |\n| 15 |  0.265425587 | 12.018699 |\n| 16 |  0.086217052 |        NA |\n| 17 |  0.075776759 |        NA |\n| 18 |  0.200535551 |        NA |\n| 19 |  0.005283866 |        NA |\n| 20 | -0.210508029 |        NA |\n| 21 |  0.288200518 |        NA |\n| 22 | -0.448335209 |        NA |\n| 23 |  0.606405505 |        NA |\n| 24 |  0.716437276 |        NA |\n| 25 | -2.249536688 |        NA |\n| 26 |  2.343002373 |        NA |\n| 27 | -0.249967539 |        NA |\n| 28 | -1.089288584 |        NA |\n| 29 |  0.015797722 |        NA |\n| 30 |  1.080060388 |        NA |\n| 31 |  0.098472174 |        NA |\n| 32 | -0.407680670 |        NA |\n| 33 | -0.358536923 |        NA |\n| 34 |  0.761166623 |        NA |\n| 35 |  0.274957161 |        NA |\n| 36 | -1.150748260 |        NA |\n| 37 |  0.746369985 |        NA |\n| 38 |  1.861191555 |        NA |\n| 39 | -0.315505385 |        NA |\n| 40 | -0.441975204 |        NA |\n| 41 |  0.832505724 |        NA |\n| 42 |  1.701464928 |        NA |\n| 43 | -0.371904811 |        NA |\n| 44 | -0.922794639 |        NA |\n\n",
            "text/latex": "A data.frame: 44 × 3\n\\begin{tabular}{lll}\n orden & aleatorios & resultado\\\\\n <int> & <dbl> & <dbl>\\\\\n\\hline\n\t  1 & -0.612640338 & 11.770059\\\\\n\t  2 & -1.402374962 &  9.242012\\\\\n\t  3 & -0.408590485 & 11.931787\\\\\n\t  4 & -1.493647263 &  8.667700\\\\\n\t  5 &  0.597888445 & 12.213728\\\\\n\t  6 & -0.486734255 & 11.884688\\\\\n\t  7 & -1.635165047 &  7.627953\\\\\n\t  8 & -0.159162831 & 11.995968\\\\\n\t  9 & -0.383546260 & 11.943577\\\\\n\t 10 & -0.030526615 & 11.999972\\\\\n\t 11 & -0.538187619 & 11.844116\\\\\n\t 12 &  0.430582922 & 12.079831\\\\\n\t 13 &  1.447381321 & 15.032137\\\\\n\t 14 & -0.666015329 & 11.704571\\\\\n\t 15 &  0.265425587 & 12.018699\\\\\n\t 16 &  0.086217052 &        NA\\\\\n\t 17 &  0.075776759 &        NA\\\\\n\t 18 &  0.200535551 &        NA\\\\\n\t 19 &  0.005283866 &        NA\\\\\n\t 20 & -0.210508029 &        NA\\\\\n\t 21 &  0.288200518 &        NA\\\\\n\t 22 & -0.448335209 &        NA\\\\\n\t 23 &  0.606405505 &        NA\\\\\n\t 24 &  0.716437276 &        NA\\\\\n\t 25 & -2.249536688 &        NA\\\\\n\t 26 &  2.343002373 &        NA\\\\\n\t 27 & -0.249967539 &        NA\\\\\n\t 28 & -1.089288584 &        NA\\\\\n\t 29 &  0.015797722 &        NA\\\\\n\t 30 &  1.080060388 &        NA\\\\\n\t 31 &  0.098472174 &        NA\\\\\n\t 32 & -0.407680670 &        NA\\\\\n\t 33 & -0.358536923 &        NA\\\\\n\t 34 &  0.761166623 &        NA\\\\\n\t 35 &  0.274957161 &        NA\\\\\n\t 36 & -1.150748260 &        NA\\\\\n\t 37 &  0.746369985 &        NA\\\\\n\t 38 &  1.861191555 &        NA\\\\\n\t 39 & -0.315505385 &        NA\\\\\n\t 40 & -0.441975204 &        NA\\\\\n\t 41 &  0.832505724 &        NA\\\\\n\t 42 &  1.701464928 &        NA\\\\\n\t 43 & -0.371904811 &        NA\\\\\n\t 44 & -0.922794639 &        NA\\\\\n\\end{tabular}\n",
            "text/plain": [
              "   orden aleatorios   resultado\n",
              "1   1    -0.612640338 11.770059\n",
              "2   2    -1.402374962  9.242012\n",
              "3   3    -0.408590485 11.931787\n",
              "4   4    -1.493647263  8.667700\n",
              "5   5     0.597888445 12.213728\n",
              "6   6    -0.486734255 11.884688\n",
              "7   7    -1.635165047  7.627953\n",
              "8   8    -0.159162831 11.995968\n",
              "9   9    -0.383546260 11.943577\n",
              "10 10    -0.030526615 11.999972\n",
              "11 11    -0.538187619 11.844116\n",
              "12 12     0.430582922 12.079831\n",
              "13 13     1.447381321 15.032137\n",
              "14 14    -0.666015329 11.704571\n",
              "15 15     0.265425587 12.018699\n",
              "16 16     0.086217052        NA\n",
              "17 17     0.075776759        NA\n",
              "18 18     0.200535551        NA\n",
              "19 19     0.005283866        NA\n",
              "20 20    -0.210508029        NA\n",
              "21 21     0.288200518        NA\n",
              "22 22    -0.448335209        NA\n",
              "23 23     0.606405505        NA\n",
              "24 24     0.716437276        NA\n",
              "25 25    -2.249536688        NA\n",
              "26 26     2.343002373        NA\n",
              "27 27    -0.249967539        NA\n",
              "28 28    -1.089288584        NA\n",
              "29 29     0.015797722        NA\n",
              "30 30     1.080060388        NA\n",
              "31 31     0.098472174        NA\n",
              "32 32    -0.407680670        NA\n",
              "33 33    -0.358536923        NA\n",
              "34 34     0.761166623        NA\n",
              "35 35     0.274957161        NA\n",
              "36 36    -1.150748260        NA\n",
              "37 37     0.746369985        NA\n",
              "38 38     1.861191555        NA\n",
              "39 39    -0.315505385        NA\n",
              "40 40    -0.441975204        NA\n",
              "41 41     0.832505724        NA\n",
              "42 42     1.701464928        NA\n",
              "43 43    -0.371904811        NA\n",
              "44 44    -0.922794639        NA"
            ]
          },
          "metadata": {}
        }
      ]
    }
  ]
}